{
 "cells": [
  {
   "cell_type": "code",
   "metadata": {
    "ExecuteTime": {
     "end_time": "2024-04-10T00:17:32.918290Z",
     "start_time": "2024-04-10T00:17:32.916159Z"
    }
   },
   "source": [
    "# probabilistic matrix multiply\n",
    "import numpy as np"
   ],
   "outputs": [],
   "execution_count": 69
  },
  {
   "cell_type": "markdown",
   "metadata": {},
   "source": [
    "From https://arxiv.org/pdf/1712.08880.pdf\n",
    "\n",
    "$$ prob_{k} = \\frac{\\|A_{*k}\\|_{2} \\cdot \\|B_{k*}\\|_{2}}{\\sum_{k'=1}^{n} \\|A_{*k'}\\|_{2} \\cdot \\|B_{k'*}\\|_{2}} $$\n",
    "\n",
    "$$ C_{*t} = \\frac{1}{\\sqrt{c \\cdot prob_{i_t}}} A_{*i_t}$$\n",
    "$$ R_{t*} = \\frac{1}{\\sqrt{c \\cdot prob_{i_t}}} B_{i_t*}$$\n",
    "\n",
    "$$ CR = \\sum_{t=1}^{c} \\frac{1}{c \\cdot prob_{i_t}} A_{*i_t} B_{i_t*} = \n",
    " \\frac{1}{c} \\sum_{t=1}^{c} \\frac{1}{prob_{i_t}} A_{*i_t} B_{i_t*}$$"
   ]
  },
  {
   "cell_type": "code",
   "metadata": {
    "ExecuteTime": {
     "end_time": "2024-04-10T00:17:32.941608Z",
     "start_time": "2024-04-10T00:17:32.939030Z"
    }
   },
   "source": [
    "np.random.seed(100)\n",
    "# A = m rows, n cols\n",
    "# B = n rows, p cols\n",
    "m, n, p = 50, 100, 80\n",
    "A = np.random.rand(m,n)\n",
    "B = np.random.rand(n,p)"
   ],
   "outputs": [],
   "execution_count": 70
  },
  {
   "cell_type": "code",
   "metadata": {
    "ExecuteTime": {
     "end_time": "2024-04-10T00:17:32.947225Z",
     "start_time": "2024-04-10T00:17:32.942886Z"
    }
   },
   "source": [
    "def norm(X, axis=0):\n",
    "    return np.sqrt(np.sum(X ** 2, axis=axis))\n",
    "\n",
    "def approx_matmul(A, B, factor=1):\n",
    "    m, n = A.shape\n",
    "    _, p = B.shape\n",
    "    \n",
    "    A_col_norm, B_row_norm = norm(A, axis=0), norm(B, axis=1)\n",
    "    sum_norm = np.sum(A_col_norm * B_row_norm)\n",
    "    prob = np.array([A_col_norm[k] * B_row_norm[k] / sum_norm for k in range(n)])\n",
    "    \n",
    "    # np.testing.assert_almost_equal(np.sum(prob), 1, 5) # probability should sum to 1, within floating point error\n",
    "    \n",
    "    c = int(n * factor)\n",
    "    indices = np.flip(np.argsort(prob)) # arg sort is ascending, so first reverse then slice\n",
    "    \n",
    "    # prob_i = prob[indices]\n",
    "    # A_i = A[:,indices]\n",
    "    # B_i = B[indices,:]\n",
    "\n",
    "    # print(prob_i)\n",
    "    print(\"c\", c)\n",
    "    print(\"np.sum(prob)\", np.sum(prob))\n",
    "    # print(\"np.sum(prob_i)\", np.sum(prob_i))\n",
    "\n",
    "    result = np.zeros((m, p))\n",
    "    # for t in range(c):\n",
    "    #     w = 1. / prob_i[t] # (1 / (c * prob_i[t]))\n",
    "    #     for i in range(m):\n",
    "    #         for j in range(p):\n",
    "    #             result[i, j] += w * A_i[i, t] * B_i[t, j]\n",
    "    \n",
    "    for t in indices[:c]:\n",
    "        w = 1. / (c * prob[t])\n",
    "        for i in range(m):\n",
    "            for j in range(p):\n",
    "                result[i, j] += w * A[i, t] * B[t, j]\n",
    "                \n",
    "    return result"
   ],
   "outputs": [],
   "execution_count": 71
  },
  {
   "cell_type": "code",
   "metadata": {
    "ExecuteTime": {
     "end_time": "2024-04-10T00:17:33.063199Z",
     "start_time": "2024-04-10T00:17:32.948303Z"
    }
   },
   "source": [
    "approx_matmul(A,B,factor=0.8)"
   ],
   "outputs": [
    {
     "name": "stdout",
     "output_type": "stream",
     "text": [
      "c 80\n",
      "np.sum(prob) 1.0\n"
     ]
    },
    {
     "data": {
      "text/plain": [
       "array([[20.69161515, 25.82614528, 22.3773683 , ..., 24.59434283,\n",
       "        20.86593701, 23.38318224],\n",
       "       [27.30487591, 31.58371029, 25.7934565 , ..., 28.63853213,\n",
       "        26.74889688, 26.87976057],\n",
       "       [26.48694919, 32.76078426, 26.77218696, ..., 27.8878618 ,\n",
       "        28.16856331, 26.69426382],\n",
       "       ...,\n",
       "       [24.46240435, 29.38974387, 25.45994266, ..., 24.85479098,\n",
       "        26.06522319, 26.53235013],\n",
       "       [22.1735354 , 25.83860564, 21.00780044, ..., 23.24765748,\n",
       "        21.41353967, 23.25660577],\n",
       "       [22.69847497, 27.78549586, 21.97999475, ..., 23.6478906 ,\n",
       "        23.56302511, 25.57350114]])"
      ]
     },
     "execution_count": 72,
     "metadata": {},
     "output_type": "execute_result"
    }
   ],
   "execution_count": 72
  },
  {
   "cell_type": "code",
   "metadata": {
    "ExecuteTime": {
     "end_time": "2024-04-10T00:17:33.237198Z",
     "start_time": "2024-04-10T00:17:33.064395Z"
    }
   },
   "source": [
    "# how did we do?\n",
    "mse = np.mean(((A@B) - approx_matmul(A,B,0.7)) ** 2)\n",
    "mse"
   ],
   "outputs": [
    {
     "name": "stdout",
     "output_type": "stream",
     "text": [
      "c 70\n",
      "np.sum(prob) 1.0\n"
     ]
    },
    {
     "data": {
      "text/plain": [
       "1.9916707841334365"
      ]
     },
     "execution_count": 73,
     "metadata": {},
     "output_type": "execute_result"
    }
   ],
   "execution_count": 73
  },
  {
   "metadata": {
    "ExecuteTime": {
     "end_time": "2024-04-10T00:17:33.457934Z",
     "start_time": "2024-04-10T00:17:33.239844Z"
    }
   },
   "cell_type": "code",
   "source": [
    "mse = np.mean(((A@B) - approx_matmul(A,B,1.)) ** 2)\n",
    "mse"
   ],
   "outputs": [
    {
     "name": "stdout",
     "output_type": "stream",
     "text": [
      "c 100\n",
      "np.sum(prob) 1.0\n"
     ]
    },
    {
     "data": {
      "text/plain": [
       "0.05592349241945"
      ]
     },
     "execution_count": 74,
     "metadata": {},
     "output_type": "execute_result"
    }
   ],
   "execution_count": 74
  },
  {
   "metadata": {
    "ExecuteTime": {
     "end_time": "2024-04-10T00:17:33.467907Z",
     "start_time": "2024-04-10T00:17:33.465088Z"
    }
   },
   "cell_type": "code",
   "source": "",
   "outputs": [],
   "execution_count": 74
  }
 ],
 "metadata": {
  "kernelspec": {
   "display_name": ".venv",
   "language": "python",
   "name": "python3"
  },
  "language_info": {
   "codemirror_mode": {
    "name": "ipython",
    "version": 3
   },
   "file_extension": ".py",
   "mimetype": "text/x-python",
   "name": "python",
   "nbconvert_exporter": "python",
   "pygments_lexer": "ipython3",
   "version": "3.11.8"
  }
 },
 "nbformat": 4,
 "nbformat_minor": 2
}
